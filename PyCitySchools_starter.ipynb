{
 "cells": [
  {
   "cell_type": "markdown",
   "metadata": {},
   "source": [
    "# PyCity Schools Analysis\n",
    "\n",
    "* As a whole, schools with higher budgets, did not yield better test results. By contrast, schools with higher spending per student actually (\\$645-675) underperformed compared to schools with smaller budgets (<\\$585 per student).\n",
    "\n",
    "* As a whole, smaller and medium sized schools dramatically out-performed large sized schools on passing math performances (89-91% passing vs 67%).\n",
    "\n",
    "* As a whole, charter schools out-performed the public district schools across all metrics. However, more analysis will be required to glean if the effect is due to school practices or the fact that charter schools tend to serve smaller student populations per school. \n",
    "---"
   ]
  },
  {
   "cell_type": "markdown",
   "metadata": {},
   "source": [
    "### Note\n",
    "* Instructions have been included for each segment. You do not have to follow them exactly, but they are included to help you think through the steps."
   ]
  },
  {
   "cell_type": "code",
   "execution_count": null,
   "metadata": {},
   "outputs": [],
   "source": [
    "# Observable Trends:\n",
    "#     1. Charter Schools significantly out-performed district schools in overall passing rate (94%-74&).  \n",
    "#        The top 5 schools were all charter schools and the bottom 5 schools where all district schools.\n",
    "#     2. Spending per student yielded interesting results.  It appears that the less you spend on a student,\n",
    "#        the better they perform.  This should be analyzed further.  For example, large schools are under-\n",
    "#        performing as well.  Is there a correlation between large schools and per student spend?  \n",
    "#        Does one influence the other?"
   ]
  },
  {
   "cell_type": "code",
   "execution_count": null,
   "metadata": {},
   "outputs": [],
   "source": [
    "# Dependencies and Setup\n",
    "import pandas as pd\n",
    "\n",
    "# File to Load (Remember to Change These)\n",
    "school_data_to_load = \"Resources/schools_complete.csv\"\n",
    "student_data_to_load = \"Resources/students_complete.csv\"\n",
    "\n",
    "# Read School and Student Data File and store into Pandas Data Frames\n",
    "school_data = pd.read_csv(school_data_to_load)\n",
    "student_data = pd.read_csv(student_data_to_load)"
   ]
  },
  {
   "cell_type": "code",
   "execution_count": null,
   "metadata": {},
   "outputs": [],
   "source": [
    "# rename columns so they're more readable\n",
    "school_data = school_data.rename(columns={\"school_name\":\"School Name\", \"type\":\"Type\", \"size\":\"Size\", \"budget\":\"Budget\"})\n",
    "\n",
    "# rename columns so they're more readable\n",
    "student_data = student_data.rename(columns={\"student_name\":\"Student Name\", \"gender\":\"Gender\",\n",
    "                                                            \"grade\":\"Grade\", \"school_name\":\"School Name\", \"reading_score\":\"Reading Score\",\n",
    "                                                            \"math_score\":\"Math Score\"})\n",
    "\n",
    "# Combine the data into a single dataset\n",
    "school_data_complete = pd.merge(student_data, school_data, how=\"left\", on=[\"School Name\", \"School Name\"])"
   ]
  },
  {
   "cell_type": "code",
   "execution_count": null,
   "metadata": {},
   "outputs": [],
   "source": [
    "school_data_complete.head()"
   ]
  },
  {
   "cell_type": "code",
   "execution_count": null,
   "metadata": {},
   "outputs": [],
   "source": [
    "school_data_complete.dtypes"
   ]
  },
  {
   "cell_type": "code",
   "execution_count": null,
   "metadata": {},
   "outputs": [],
   "source": [
    "school_data_complete.count()"
   ]
  },
  {
   "cell_type": "markdown",
   "metadata": {},
   "source": [
    "## District Summary\n",
    "\n",
    "* Calculate the total number of schools\n",
    "\n",
    "* Calculate the total number of students\n",
    "\n",
    "* Calculate the total budget\n",
    "\n",
    "* Calculate the average math score \n",
    "\n",
    "* Calculate the average reading score\n",
    "\n",
    "* Calculate the overall passing rate (overall average score), i.e. (avg. math score + avg. reading score)/2\n",
    "\n",
    "* Calculate the percentage of students with a passing math score (70 or greater)\n",
    "\n",
    "* Calculate the percentage of students with a passing reading score (70 or greater)\n",
    "\n",
    "* Create a dataframe to hold the above results\n",
    "\n",
    "* Optional: give the displayed data cleaner formatting"
   ]
  },
  {
   "cell_type": "code",
   "execution_count": null,
   "metadata": {},
   "outputs": [],
   "source": [
    "number_of_schools = school_data[\"School ID\"].nunique()\n",
    "number_of_students = student_data[\"Student ID\"].nunique()\n",
    "budget = school_data[\"Budget\"].sum()\n",
    "avg_math_score = school_data_complete[\"Math Score\"].mean()\n",
    "avg_reading_score = school_data_complete[\"Reading Score\"].mean()\n",
    "overall_avg_score = (avg_math_score+avg_reading_score)/2"
   ]
  },
  {
   "cell_type": "code",
   "execution_count": null,
   "metadata": {},
   "outputs": [],
   "source": [
    "cond_math_passing = school_data_complete[\"Math Score\"] >= 70\n",
    "number_passing_math = school_data_complete.loc[cond_math_passing][\"Student ID\"].count()\n",
    "percentage_passing_math = (number_passing_math/number_of_students) *100"
   ]
  },
  {
   "cell_type": "code",
   "execution_count": null,
   "metadata": {},
   "outputs": [],
   "source": [
    "cond_reading_passing = school_data_complete[\"Reading Score\"] >= 70\n",
    "number_passing_reading = school_data_complete.loc[cond_reading_passing][\"Student ID\"].count()\n",
    "percentage_passing_reading = (number_passing_reading/number_of_students) * 100"
   ]
  },
  {
   "cell_type": "code",
   "execution_count": null,
   "metadata": {},
   "outputs": [],
   "source": [
    "# Optional: give the displayed data cleaner formatting\n",
    "district_summary_df = pd.DataFrame({\"Number of Schools\": number_of_schools,\n",
    "                         \"Number of Students\": number_of_students,\n",
    "                         \"Total Budget\": budget,\n",
    "                         \"Average Math Score\": avg_math_score,\n",
    "                         \"Average Reading Score\": avg_reading_score,\n",
    "                         \"Percentage Passing Math\": percentage_passing_math,\n",
    "                         \"Percentage Passing Reading\": percentage_passing_reading,\n",
    "                         \"Overall Average Score\": overall_avg_score},\n",
    "                         index=[0]) # have to pass an index since all columns are numeric\n",
    "\n",
    "district_summary_df[\"Number of Students\"] = district_summary_df[\"Number of Students\"].map(\"{:,}\".format)\n",
    "district_summary_df[\"Total Budget\"] = district_summary_df[\"Total Budget\"].map(\"${:,.2f}\".format)\n",
    "district_summary_df[\"Average Math Score\"] = district_summary_df[\"Average Math Score\"].map(\"{:,.2f}\".format)\n",
    "district_summary_df[\"Average Reading Score\"] = district_summary_df[\"Average Reading Score\"].map(\"{:,.2f}\".format)\n",
    "district_summary_df[\"Percentage Passing Math\"] = district_summary_df[\"Percentage Passing Math\"].map(\"{:.2f}%\".format)\n",
    "district_summary_df[\"Percentage Passing Reading\"] = district_summary_df[\"Percentage Passing Reading\"].map(\"{:.2f}%\".format)\n",
    "district_summary_df[\"Overall Average Score\"] = district_summary_df[\"Overall Average Score\"].map(\"{:,.2f}\".format)\n",
    "\n",
    "district_summary_df"
   ]
  },
  {
   "cell_type": "markdown",
   "metadata": {},
   "source": [
    "## School Summary"
   ]
  },
  {
   "cell_type": "markdown",
   "metadata": {},
   "source": [
    "* Create an overview table that summarizes key metrics about each school, including:\n",
    "  * School Name\n",
    "  * School Type\n",
    "  * Total Students\n",
    "  * Total School Budget\n",
    "  * Per Student Budget\n",
    "  * Average Math Score\n",
    "  * Average Reading Score\n",
    "  * % Passing Math\n",
    "  * % Passing Reading\n",
    "  * Overall Passing Rate (Average of the above two)\n",
    "  \n",
    "* Create a dataframe to hold the above results"
   ]
  },
  {
   "cell_type": "code",
   "execution_count": null,
   "metadata": {},
   "outputs": [],
   "source": [
    "grouped_df = school_data_complete.groupby([\"School Name\", \"Type\"])\n",
    "\n",
    "df_filtered_reading = school_data_complete.loc[cond_reading_passing, :]\n",
    "df_filtered_math = school_data_complete.loc[cond_math_passing, :]\n",
    "\n",
    "grouped_df_reading = df_filtered_reading.groupby([\"School Name\", \"Type\"])\n",
    "grouped_df_math = df_filtered_math.groupby([\"School Name\", \"Type\"])\n",
    "\n",
    "total_students = grouped_df[\"Student ID\"].count()\n",
    "school_budget = grouped_df[\"Budget\"].mean()\n",
    "budget_per_student = grouped_df[\"Budget\"].mean() / grouped_df[\"Student ID\"].count()\n",
    "avg_math_score = grouped_df[\"Math Score\"].mean()\n",
    "avg_reading_score = grouped_df[\"Reading Score\"].mean()\n",
    "percent_passing_math = (grouped_df_math[\"Student ID\"].count() / grouped_df[\"Student ID\"].count()) * 100 \n",
    "percent_passing_reading = (grouped_df_reading[\"Student ID\"].count() / grouped_df[\"Student ID\"].count()) * 100 \n",
    "overall_passing_rate = (((grouped_df_math[\"Student ID\"].count() / grouped_df[\"Student ID\"].count()) + (grouped_df_reading[\"Student ID\"].count() / grouped_df[\"Student ID\"].count())) / 2) * 100 \n",
    "\n",
    "school_df = pd.DataFrame({\n",
    "\"Total Students\": total_students,\n",
    "\"Total School Budget\": school_budget,\n",
    "\"Per Student Budget\": budget_per_student,\n",
    "\"Average Math Score\": avg_math_score,\n",
    "\"Average Reading Score\": avg_reading_score,\n",
    "\"% Passing Math\": percent_passing_math,\n",
    "\"% Passing Reading\": percent_passing_reading,\n",
    "\"% Overall Passing Rate\": overall_passing_rate})\n",
    "\n",
    "school_df_unformatted = pd.DataFrame({\n",
    "\"Total Students\": total_students,\n",
    "\"Total School Budget\": school_budget,\n",
    "\"Per Student Budget\": budget_per_student,\n",
    "\"Average Math Score\": avg_math_score,\n",
    "\"Average Reading Score\": avg_reading_score,\n",
    "\"% Passing Math\": percent_passing_math,\n",
    "\"% Passing Reading\": percent_passing_reading,\n",
    "\"% Overall Passing Rate\": overall_passing_rate})\n",
    "\n",
    "school_df[\"Total Students\"] = school_df[\"Total Students\"].map(\"{:,}\".format)\n",
    "school_df[\"Total School Budget\"] = school_df[\"Total School Budget\"].map(\"${:,.2f}\".format)\n",
    "school_df[\"Per Student Budget\"] = school_df[\"Per Student Budget\"].map(\"${:,.2f}\".format)\n",
    "school_df[\"Average Math Score\"] = school_df[\"Average Math Score\"].map(\"{:,.2f}\".format)\n",
    "school_df[\"Average Reading Score\"] = school_df[\"Average Reading Score\"].map(\"{:,.2f}\".format)\n",
    "school_df[\"% Passing Math\"] = school_df[\"% Passing Math\"].map(\"{:.2f}%\".format)\n",
    "school_df[\"% Passing Reading\"] = school_df[\"% Passing Reading\"].map(\"{:.2f}%\".format)\n",
    "school_df[\"% Overall Passing Rate\"] = school_df[\"% Overall Passing Rate\"].map(\"{:.3f}%\".format)\n",
    "\n",
    "school_df"
   ]
  },
  {
   "cell_type": "markdown",
   "metadata": {},
   "source": [
    "## Top Performing Schools (By Passing Rate)"
   ]
  },
  {
   "cell_type": "markdown",
   "metadata": {},
   "source": [
    "* Sort and display the top five schools in overall passing rate"
   ]
  },
  {
   "cell_type": "code",
   "execution_count": null,
   "metadata": {},
   "outputs": [],
   "source": [
    "school_df_top5 = school_df.sort_values(\"% Overall Passing Rate\",ascending = False).head(5)\n",
    "school_df_top5"
   ]
  },
  {
   "cell_type": "markdown",
   "metadata": {},
   "source": [
    "## Bottom Performing Schools (By Passing Rate)"
   ]
  },
  {
   "cell_type": "markdown",
   "metadata": {},
   "source": [
    "* Sort and display the five worst-performing schools"
   ]
  },
  {
   "cell_type": "code",
   "execution_count": null,
   "metadata": {},
   "outputs": [],
   "source": [
    "school_df_bottom5 = school_df.sort_values(\"% Overall Passing Rate\").head(5)\n",
    "school_df_bottom5"
   ]
  },
  {
   "cell_type": "markdown",
   "metadata": {
    "collapsed": true
   },
   "source": [
    "## Math Scores by Grade"
   ]
  },
  {
   "cell_type": "markdown",
   "metadata": {},
   "source": [
    "* Create a table that lists the average Reading Score for students of each grade level (9th, 10th, 11th, 12th) at each school.\n",
    "\n",
    "  * Create a pandas series for each grade. Hint: use a conditional statement.\n",
    "  \n",
    "  * Group each series by school\n",
    "  \n",
    "  * Combine the series into a dataframe\n",
    "  \n",
    "  * Optional: give the displayed data cleaner formatting"
   ]
  },
  {
   "cell_type": "code",
   "execution_count": null,
   "metadata": {},
   "outputs": [],
   "source": [
    "df_9th_grade = school_data_complete.loc[school_data_complete[\"Grade\"] == \"9th\", (\"School Name\", \"Math Score\")]\n",
    "df_10th_grade = school_data_complete.loc[school_data_complete[\"Grade\"] == \"10th\", (\"School Name\", \"Math Score\")]\n",
    "df_11th_grade = school_data_complete.loc[school_data_complete[\"Grade\"] == \"11th\", (\"School Name\", \"Math Score\")]\n",
    "df_12th_grade = school_data_complete.loc[school_data_complete[\"Grade\"] == \"12th\", (\"School Name\", \"Math Score\")]\n",
    "\n",
    "grouped_df_9th_grade = df_9th_grade.groupby([\"School Name\"])\n",
    "grouped_df_10th_grade = df_10th_grade.groupby([\"School Name\"])\n",
    "grouped_df_11th_grade = df_11th_grade.groupby([\"School Name\"])\n",
    "grouped_df_12th_grade = df_12th_grade.groupby([\"School Name\"])\n",
    "\n",
    "avg_math_score_9th = grouped_df_9th_grade[\"Math Score\"].mean()\n",
    "avg_math_score_10th = grouped_df_10th_grade[\"Math Score\"].mean()\n",
    "avg_math_score_11th = grouped_df_11th_grade[\"Math Score\"].mean()\n",
    "avg_math_score_12th = grouped_df_12th_grade[\"Math Score\"].mean()\n",
    "\n",
    "math_df = pd.concat([avg_math_score_9th, avg_math_score_10th, avg_math_score_11th, avg_math_score_12th], axis=1)\n",
    "math_df.columns = ['9th', '10th', '11th', '12th']\n",
    "\n",
    "math_df[\"9th\"] = math_df[\"9th\"].map(\"{:.2f}\".format)\n",
    "math_df[\"10th\"] = math_df[\"10th\"].map(\"{:.2f}\".format)\n",
    "math_df[\"11th\"] = math_df[\"11th\"].map(\"{:.2f}\".format)\n",
    "math_df[\"12th\"] = math_df[\"12th\"].map(\"{:.2f}\".format)\n",
    "math_df"
   ]
  },
  {
   "cell_type": "markdown",
   "metadata": {},
   "source": [
    "## Reading Score by Grade "
   ]
  },
  {
   "cell_type": "markdown",
   "metadata": {},
   "source": [
    "* Perform the same operations as above for reading scores"
   ]
  },
  {
   "cell_type": "code",
   "execution_count": null,
   "metadata": {},
   "outputs": [],
   "source": [
    "df_9th_grade = school_data_complete.loc[school_data_complete[\"Grade\"] == \"9th\", (\"School Name\", \"Reading Score\")]\n",
    "df_10th_grade = school_data_complete.loc[school_data_complete[\"Grade\"] == \"10th\", (\"School Name\", \"Reading Score\")]\n",
    "df_11th_grade = school_data_complete.loc[school_data_complete[\"Grade\"] == \"11th\", (\"School Name\", \"Reading Score\")]\n",
    "df_12th_grade = school_data_complete.loc[school_data_complete[\"Grade\"] == \"12th\", (\"School Name\", \"Reading Score\")]\n",
    "\n",
    "grouped_df_9th_grade = df_9th_grade.groupby([\"School Name\"])\n",
    "grouped_df_10th_grade = df_10th_grade.groupby([\"School Name\"])\n",
    "grouped_df_11th_grade = df_11th_grade.groupby([\"School Name\"])\n",
    "grouped_df_12th_grade = df_12th_grade.groupby([\"School Name\"])\n",
    "\n",
    "avg_reading_score_9th = grouped_df_9th_grade[\"Reading Score\"].mean()\n",
    "avg_reading_score_10th = grouped_df_10th_grade[\"Reading Score\"].mean()\n",
    "avg_reading_score_11th = grouped_df_11th_grade[\"Reading Score\"].mean()\n",
    "avg_reading_score_12th = grouped_df_12th_grade[\"Reading Score\"].mean()\n",
    "\n",
    "reading_df = pd.concat([avg_reading_score_9th, avg_reading_score_10th, avg_reading_score_11th, avg_reading_score_12th], axis=1)\n",
    "reading_df.columns = ['9th', '10th', '11th', '12th']\n",
    "\n",
    "reading_df[\"9th\"] = reading_df[\"9th\"].map(\"{:.2f}\".format)\n",
    "reading_df[\"10th\"] = reading_df[\"10th\"].map(\"{:.2f}\".format)\n",
    "reading_df[\"11th\"] = reading_df[\"11th\"].map(\"{:.2f}\".format)\n",
    "reading_df[\"12th\"] = reading_df[\"12th\"].map(\"{:.2f}\".format)\n",
    "reading_df"
   ]
  },
  {
   "cell_type": "markdown",
   "metadata": {},
   "source": [
    "## Scores by School Spending"
   ]
  },
  {
   "cell_type": "markdown",
   "metadata": {},
   "source": [
    "* Create a table that breaks down school performances based on average Spending Ranges (Per Student). Use 4 reasonable bins to group school spending. Include in the table each of the following:\n",
    "  * Average Math Score\n",
    "  * Average Reading Score\n",
    "  * % Passing Math\n",
    "  * % Passing Reading\n",
    "  * Overall Passing Rate (Average of the above two)"
   ]
  },
  {
   "cell_type": "code",
   "execution_count": null,
   "metadata": {},
   "outputs": [],
   "source": [
    "# \t        Avg Math \tAvg Read   % Pass Math % Pass Read % Overall Passing Rate\n",
    "# Spend \n",
    "# <$585   \t83.455399\t83.933814\t93.460096\t96.610877\t95.035486\n",
    "# $585-615\t83.599686\t83.885211\t94.230858\t95.900287\t95.065572\n",
    "# $615-645\t79.079225\t81.891436\t75.668212\t86.106569\t80.887391\n",
    "# $645-675\t76.997210\t81.027843\t66.164813\t81.133951\t73.649382\n",
    "\n",
    "# DO AS AN AVERAGE ON TOTALS, NOT AVERAGE ON AVERAGE\n",
    "\n",
    "grouped_df2 = school_data_complete.groupby([\"School Name\"])\n",
    "grouped_df2_students_passing_reading = df_filtered_reading.groupby([\"School Name\"])\n",
    "grouped_df2_students_passing_math = df_filtered_math.groupby([\"School Name\"])\n",
    "\n",
    "total_students = grouped_df2[\"Student ID\"].count()\n",
    "school_budget = grouped_df2[\"Budget\"].mean()\n",
    "budget_per_student = grouped_df2[\"Budget\"].mean() / grouped_df2[\"Student ID\"].count()\n",
    "total_math_score = grouped_df2[\"Math Score\"].sum()\n",
    "total_reading_score = grouped_df2[\"Reading Score\"].sum()\n",
    "total_students_passing_reading = grouped_df2_students_passing_reading[\"Student ID\"].count()\n",
    "total_students_passing_math = grouped_df2_students_passing_math[\"Student ID\"].count()\n",
    "\n",
    "school_df2 = pd.DataFrame({\n",
    "\"Total Students\": total_students,\n",
    "\"Total School Budget\": school_budget,\n",
    "\"Per Student Budget\": budget_per_student,\n",
    "\"Total Math Score\": total_math_score,\n",
    "\"Total Reading Score\": total_reading_score,\n",
    "\"Total Passing Reading\": total_students_passing_reading,\n",
    "\"Total Passing Math\": total_students_passing_math})\n",
    "\n",
    "spending_bins = [0, 585, 615, 645, 675]\n",
    "group_names = [\"<$585\", \"$585-615\", \"$615-645\", \"$645-675\"]\n",
    "school_df2[\"Spending Range\"] = pd.cut(school_df2[\"Per Student Budget\"], bins=spending_bins, labels=group_names)\n",
    "\n",
    "grouped_df3 = school_df2.groupby([\"Spending Range\"])\n",
    "\n",
    "avg_math_score = grouped_df3[\"Total Math Score\"].sum() / grouped_df3[\"Total Students\"].sum()\n",
    "avg_reading_score = grouped_df3[\"Total Reading Score\"].sum() / grouped_df3[\"Total Students\"].sum()\n",
    "percent_passing_reading = grouped_df3[\"Total Passing Reading\"].sum() / grouped_df3[\"Total Students\"].sum() * 100\n",
    "percent_passing_math = grouped_df3[\"Total Passing Math\"].sum() / grouped_df3[\"Total Students\"].sum() * 100\n",
    "overall_passing_rate = (percent_passing_reading + percent_passing_math) / 2\n",
    "\n",
    "school_df3 = pd.DataFrame({\n",
    "\"Average Math Score\": avg_math_score,\n",
    "\"Average Reading Score\": avg_reading_score,\n",
    "\"% Passing Math\": percent_passing_math,\n",
    "\"% Passing Reading\": percent_passing_reading,\n",
    "\"% Overall Passing Rate\": overall_passing_rate})\n",
    "\n",
    "school_df3"
   ]
  },
  {
   "cell_type": "code",
   "execution_count": null,
   "metadata": {},
   "outputs": [],
   "source": [
    "# \t        Avg Math \tAvg Read   % Pass Math % Pass Read % Overall Passing Rate\n",
    "# Spend \n",
    "# <$585   \t83.455399\t83.933814\t93.460096\t96.610877\t95.035486\n",
    "# $585-615\t83.599686\t83.885211\t94.230858\t95.900287\t95.065572\n",
    "# $615-645\t79.079225\t81.891436\t75.668212\t86.106569\t80.887391\n",
    "# $645-675\t76.997210\t81.027843\t66.164813\t81.133951\t73.649382\n",
    "\n",
    "# DO AS AN AVERAGE ON AVERAGE\n",
    "df_aa_filtered_reading = school_data_complete.loc[school_data_complete[\"Reading Score\"] >=70, :]\n",
    "df_aa_filtered_math = school_data_complete.loc[school_data_complete[\"Math Score\"] >=70, :]\n",
    "grouped_aa_df = school_data_complete.groupby([\"School Name\", \"Type\"])\n",
    "grouped_aa_df_reading = df_filtered_reading.groupby([\"School Name\", \"Type\"])\n",
    "grouped_aa_df_math = df_filtered_math.groupby([\"School Name\", \"Type\"])\n",
    "\n",
    "total_students = grouped_aa_df[\"Student ID\"].count()\n",
    "school_budget = grouped_aa_df[\"Budget\"].mean()\n",
    "budget_per_student = grouped_aa_df[\"Budget\"].mean() / grouped_df[\"Student ID\"].count()\n",
    "avg_math_score = grouped_aa_df[\"Math Score\"].mean()\n",
    "avg_reading_score = grouped_aa_df[\"Reading Score\"].mean()\n",
    "percent_passing_math = (grouped_aa_df_math[\"Student ID\"].count() / grouped_aa_df[\"Student ID\"].count()) * 100 \n",
    "percent_passing_reading = (grouped_df_reading[\"Student ID\"].count() / grouped_aa_df[\"Student ID\"].count()) * 100 \n",
    "overall_passing_rate = (((grouped_aa_df_math[\"Student ID\"].count() / grouped_aa_df[\"Student ID\"].count()) + \n",
    "                         (grouped_aa_df_reading[\"Student ID\"].count() / grouped_aa_df[\"Student ID\"].count())) / 2) * 100 \n",
    "\n",
    "school_aa_df = pd.DataFrame({\n",
    "\"Total Students\": total_students,\n",
    "\"Total School Budget\": school_budget,\n",
    "\"Per Student Budget\": budget_per_student,\n",
    "\"Average Math Score\": avg_math_score,\n",
    "\"Average Reading Score\": avg_reading_score,\n",
    "\"% Passing Math\": percent_passing_math,\n",
    "\"% Passing Reading\": percent_passing_reading,\n",
    "\"% Overall Passing Rate\": overall_passing_rate})\n",
    "\n",
    "\n",
    "spending_bins = [0, 585, 615, 645, 675]\n",
    "group_names = [\"<$585\", \"$585-615\", \"$615-645\", \"$645-675\"]\n",
    "school_aa_df[\"Spending Range\"] = pd.cut(school_aa_df[\"Per Student Budget\"], bins=spending_bins, labels=group_names)\n",
    "\n",
    "grouped_aa_df2 = school_aa_df.groupby([\"Spending Range\"])\n",
    "\n",
    "avg_math_score2 = grouped_aa_df2[\"Average Math Score\"].mean()\n",
    "avg_reading_score2 = grouped_aa_df2[\"Average Reading Score\"].mean()\n",
    "percent_passing_reading2 = grouped_aa_df2[\"% Passing Reading\"].mean()\n",
    "percent_passing_math2 = grouped_aa_df2[\"% Passing Math\"].mean()\n",
    "overall_passing_rate2 = grouped_aa_df2[\"% Overall Passing Rate\"].mean()\n",
    "\n",
    "school_aa_df3 = pd.DataFrame({\n",
    "\"Average Math Score\": avg_math_score2,\n",
    "\"Average Reading Score\": avg_reading_score2,\n",
    "\"% Passing Math\": percent_passing_math2,\n",
    "\"% Passing Reading\": percent_passing_reading2,\n",
    "\"% Overall Passing Rate\": overall_passing_rate2})\n",
    "\n",
    "school_aa_df3"
   ]
  },
  {
   "cell_type": "markdown",
   "metadata": {},
   "source": [
    "## Scores by School Size"
   ]
  },
  {
   "cell_type": "markdown",
   "metadata": {},
   "source": [
    "* Perform the same operations as above, based on school size."
   ]
  },
  {
   "cell_type": "code",
   "execution_count": null,
   "metadata": {},
   "outputs": [],
   "source": [
    "# \t                    Avg Math    Avg Read\t%PassMath\t%PassRead\t%OverallPassingRate\n",
    "# School Size\t\t\t\t\t\n",
    "# Small (<1000)\t        83.821598\t83.929843\t93.550225\t96.099437\t94.824831\n",
    "# Medium (1000-2000)\t83.374684\t83.864438\t93.599695\t96.790680\t95.195187\n",
    "# Large (2000-5000)\t    77.746417\t81.344493\t69.963361\t82.766634\t76.364998\n",
    "\n",
    "# DO AS AN AVERAGE ON AVERAGE\n",
    "df_aa_filtered_reading_ss = school_data_complete.loc[school_data_complete[\"Reading Score\"] >=70, :]\n",
    "df_aa_filtered_math_ss = school_data_complete.loc[school_data_complete[\"Math Score\"] >=70, :]\n",
    "grouped_aa_df_ss = school_data_complete.groupby([\"School Name\"])\n",
    "grouped_aa_df_reading_ss = df_aa_filtered_reading_ss.groupby([\"School Name\"])\n",
    "grouped_aa_df_math_ss = df_aa_filtered_math_ss.groupby([\"School Name\"])\n",
    "\n",
    "total_students = grouped_aa_df_ss[\"Student ID\"].count()\n",
    "avg_math_score = grouped_aa_df_ss[\"Math Score\"].mean()\n",
    "avg_reading_score = grouped_aa_df_ss[\"Reading Score\"].mean()\n",
    "percent_passing_math = (grouped_aa_df_math_ss[\"Student ID\"].count() / grouped_aa_df_ss[\"Student ID\"].count()) * 100 \n",
    "percent_passing_reading = (grouped_aa_df_reading_ss[\"Student ID\"].count() / grouped_aa_df_ss[\"Student ID\"].count()) * 100 \n",
    "overall_passing_rate = (((grouped_aa_df_math_ss[\"Student ID\"].count() / grouped_aa_df_ss[\"Student ID\"].count()) + \n",
    "                         (grouped_aa_df_reading_ss[\"Student ID\"].count() / grouped_aa_df_ss[\"Student ID\"].count())) / 2) * 100 \n",
    "\n",
    "school_aa_df_ss = pd.DataFrame({\n",
    "\"Total Students\": total_students,\n",
    "\"Average Math Score\": avg_math_score,\n",
    "\"Average Reading Score\": avg_reading_score,\n",
    "\"% Passing Math\": percent_passing_math,\n",
    "\"% Passing Reading\": percent_passing_reading,\n",
    "\"% Overall Passing Rate\": overall_passing_rate})\n",
    "\n",
    "size_bins = [0, 1000, 2000, 5000]\n",
    "group_names = [\"Small (<1000)\", \"Medium (1000-2000)\", \"Large (2000-5000)\"]\n",
    "school_aa_df_ss[\"School Size\"] = pd.cut(school_aa_df_ss[\"Total Students\"], bins=size_bins, labels=group_names)\n",
    "\n",
    "grouped_school_aa_df_ss = school_aa_df_ss.groupby([\"School Size\"])\n",
    "\n",
    "avg_math_score3 = grouped_school_aa_df_ss[\"Average Math Score\"].mean()\n",
    "avg_reading_score3 = grouped_school_aa_df_ss[\"Average Reading Score\"].mean()\n",
    "percent_passing_reading3 = grouped_school_aa_df_ss[\"% Passing Reading\"].mean()\n",
    "percent_passing_math3 = grouped_school_aa_df_ss[\"% Passing Math\"].mean()\n",
    "overall_passing_rate3 = grouped_school_aa_df_ss[\"% Overall Passing Rate\"].mean()\n",
    "\n",
    "school_aa_df4 = pd.DataFrame({\n",
    "\"Average Math Score\": avg_math_score3,\n",
    "\"Average Reading Score\": avg_reading_score3,\n",
    "\"% Passing Math\": percent_passing_math3,\n",
    "\"% Passing Reading\": percent_passing_reading3,\n",
    "\"% Overall Passing Rate\": overall_passing_rate3})\n",
    "\n",
    "school_aa_df4"
   ]
  },
  {
   "cell_type": "markdown",
   "metadata": {},
   "source": [
    "## Scores by School Type"
   ]
  },
  {
   "cell_type": "markdown",
   "metadata": {},
   "source": [
    "* Perform the same operations as above, based on school type."
   ]
  },
  {
   "cell_type": "code",
   "execution_count": null,
   "metadata": {},
   "outputs": [],
   "source": [
    "# \t            Avg Math\tAvg Read\tPass Math\tPass Read% Overall Passing Rate\n",
    "# School Type\n",
    "# Charter\t    83.473852\t83.896421\t93.620830\t96.586489\t95.103660\n",
    "# District\t    76.956733\t80.966636\t66.548453\t80.799062\t73.673757\n",
    "\n",
    "df_aa_filtered_reading_st = school_data_complete.loc[school_data_complete[\"Reading Score\"] >=70, :]\n",
    "df_aa_filtered_math_st = school_data_complete.loc[school_data_complete[\"Math Score\"] >=70, :]\n",
    "grouped_aa_df_st = school_data_complete.groupby([\"Type\"])\n",
    "grouped_aa_df_reading_st = df_aa_filtered_reading_st.groupby([\"Type\"])\n",
    "grouped_aa_df_math_st = df_aa_filtered_math_st.groupby([\"Type\"])\n",
    "\n",
    "avg_math_score = grouped_aa_df_st[\"Math Score\"].mean()\n",
    "avg_reading_score = grouped_aa_df_st[\"Reading Score\"].mean()\n",
    "percent_passing_math = (grouped_aa_df_math_st[\"Student ID\"].count() / grouped_aa_df_st[\"Student ID\"].count()) * 100 \n",
    "percent_passing_reading = (grouped_aa_df_reading_st[\"Student ID\"].count() / grouped_aa_df_st[\"Student ID\"].count()) * 100 \n",
    "overall_passing_rate = (((grouped_aa_df_math_st[\"Student ID\"].count() / grouped_aa_df_st[\"Student ID\"].count()) + \n",
    "                         (grouped_aa_df_reading_st[\"Student ID\"].count() / grouped_aa_df_st[\"Student ID\"].count())) / 2) * 100 \n",
    "\n",
    "school_aa_df_st = pd.DataFrame({\n",
    "\"Average Math Score\": avg_math_score,\n",
    "\"Average Reading Score\": avg_reading_score,\n",
    "\"% Passing Math\": percent_passing_math,\n",
    "\"% Passing Reading\": percent_passing_reading,\n",
    "\"% Overall Passing Rate\": overall_passing_rate})\n",
    "\n",
    "school_aa_df_st"
   ]
  },
  {
   "cell_type": "code",
   "execution_count": null,
   "metadata": {},
   "outputs": [],
   "source": []
  }
 ],
 "metadata": {
  "anaconda-cloud": {},
  "kernel_info": {
   "name": "python3"
  },
  "kernelspec": {
   "display_name": "Python 3",
   "language": "python",
   "name": "python3"
  },
  "language_info": {
   "codemirror_mode": {
    "name": "ipython",
    "version": 3
   },
   "file_extension": ".py",
   "mimetype": "text/x-python",
   "name": "python",
   "nbconvert_exporter": "python",
   "pygments_lexer": "ipython3",
   "version": "3.7.1"
  },
  "latex_envs": {
   "LaTeX_envs_menu_present": true,
   "autoclose": false,
   "autocomplete": true,
   "bibliofile": "biblio.bib",
   "cite_by": "apalike",
   "current_citInitial": 1,
   "eqLabelWithNumbers": true,
   "eqNumInitial": 1,
   "hotkeys": {
    "equation": "Ctrl-E",
    "itemize": "Ctrl-I"
   },
   "labels_anchors": false,
   "latex_user_defs": false,
   "report_style_numbering": false,
   "user_envs_cfg": false
  },
  "nteract": {
   "version": "0.8.4"
  }
 },
 "nbformat": 4,
 "nbformat_minor": 1
}
